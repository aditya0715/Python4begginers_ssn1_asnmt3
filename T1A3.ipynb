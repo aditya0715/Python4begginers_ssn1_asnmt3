{
 "cells": [
  {
   "cell_type": "code",
   "execution_count": null,
   "metadata": {},
   "outputs": [],
   "source": [
    "#Program to Let user enter input(first name & last name) & print them in reverse sequence "
   ]
  },
  {
   "cell_type": "code",
   "execution_count": 6,
   "metadata": {},
   "outputs": [
    {
     "name": "stdout",
     "output_type": "stream",
     "text": [
      "Enter First name:Aditya\n",
      "Enter Last name:Bhardwaj\n",
      "Bhardwaj Aditya\n"
     ]
    }
   ],
   "source": [
    " \n",
    "fname=input('Enter First name:')     #let the users enter first name eg: Aditya\n",
    "lname=input('Enter Last name:')     #let the users enter last name eg: Bhardwaj\n",
    "print(lname, fname) "
   ]
  },
  {
   "cell_type": "code",
   "execution_count": 7,
   "metadata": {},
   "outputs": [],
   "source": [
    "#NOTE: We refrain from putting quotes in print statement? ANS: to let python take fname & lname as variable "
   ]
  }
 ],
 "metadata": {
  "kernelspec": {
   "display_name": "Python 3",
   "language": "python",
   "name": "python3"
  },
  "language_info": {
   "codemirror_mode": {
    "name": "ipython",
    "version": 3
   },
   "file_extension": ".py",
   "mimetype": "text/x-python",
   "name": "python",
   "nbconvert_exporter": "python",
   "pygments_lexer": "ipython3",
   "version": "3.7.3"
  }
 },
 "nbformat": 4,
 "nbformat_minor": 2
}
